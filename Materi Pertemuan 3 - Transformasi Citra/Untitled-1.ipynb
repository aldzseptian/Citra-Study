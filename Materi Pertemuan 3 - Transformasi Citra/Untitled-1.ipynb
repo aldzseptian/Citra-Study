{
 "cells": [
  {
   "cell_type": "code",
   "execution_count": 1,
   "metadata": {},
   "outputs": [],
   "source": [
    "#SKALA\n",
    "import cv2\n",
    "\n",
    "# Membaca gambar\n",
    "img = cv2.imread('d:\\\\Data Kuliah\\\\Citra Digital - Semester 5\\\\images2.jpeg')\n",
    "\n",
    "# Mengubah ukuran gambar\n",
    "dstSkala = cv2.resize(img, None, fx=2.5, fy=2, interpolation=cv2.INTER_CUBIC)\n",
    "\n",
    "# Menampilkan gambar asli\n",
    "cv2.imshow('Original Image', img)\n",
    "\n",
    "# Menampilkan gambar yang telah diubah ukurannya\n",
    "cv2.imshow('Resized Image', dstSkala)\n",
    "\n",
    "# Menunggu tombol ditekan dan menutup semua jendela\n",
    "cv2.waitKey(0)\n",
    "cv2.destroyAllWindows()\n"
   ]
  },
  {
   "cell_type": "markdown",
   "metadata": {},
   "source": [
    "IMG = "
   ]
  },
  {
   "cell_type": "code",
   "execution_count": 2,
   "metadata": {},
   "outputs": [
    {
     "name": "stdout",
     "output_type": "stream",
     "text": [
      "(259, 194, 3)\n",
      "[[  2.   0. 100.]\n",
      " [  0.   2.  50.]] \n",
      "\n"
     ]
    }
   ],
   "source": [
    "#Translasi\n",
    "import cv2\n",
    "import numpy as np\n",
    "\n",
    "img = cv2.imread(\"d:\\\\Data Kuliah\\\\Citra Digital - Semester 5\\\\images2.jpeg\")\n",
    "print(img.shape)\n",
    "\n",
    "baris, coloms, ghgh = img.shape\n",
    "\n",
    "MTranslasi = np.float32([[2, 0, 100],[0, 2, 50]])\n",
    "\n",
    "print(MTranslasi, '\\n')\n",
    "\n",
    "dst = cv2.warpAffine (img, MTranslasi, (coloms, baris))\n",
    "cv2.imshow('title', dst)\n",
    "\n",
    "cv2.waitKey(0)\n",
    "cv2.destroyAllWindows()"
   ]
  },
  {
   "cell_type": "code",
   "execution_count": 7,
   "metadata": {},
   "outputs": [],
   "source": [
    "# rotasi\n",
    "import cv2\n",
    "\n",
    "img = cv2.imread(\"d:\\\\Data Kuliah\\\\Citra Digital - Semester 5\\\\images2.jpeg\")\n",
    "baris, coloms, ghgh = img.shape\n",
    "\n",
    "MRotasi = cv2.getRotationMatrix2D((coloms/2, baris/2), 90, 1)\n",
    "\n",
    "print(MRotasi)\n",
    "\n",
    "dstRotasi = cv2.warpAffine(img, MRotasi, (coloms, baris))\n",
    "\n",
    "cv2.imshow('title',dstRotasi)\n",
    "\n",
    "cv2.waitKey(0)\n",
    "cv2.destroyAllWindows()"
   ]
  },
  {
   "cell_type": "code",
   "execution_count": 4,
   "metadata": {},
   "outputs": [
    {
     "name": "stdout",
     "output_type": "stream",
     "text": [
      "[[ 3.54412955e+00 -6.39676113e-01 -4.86865587e+02]\n",
      " [-2.08538830e-01  1.34228929e+00  1.75591461e+01]]\n"
     ]
    }
   ],
   "source": [
    "# Affine\n",
    "import cv2\n",
    "import numpy as np\n",
    "\n",
    "img = cv2.imread(\"d:\\\\Data Kuliah\\\\Citra Digital - Semester 5\\\\images2.jpeg\")\n",
    "baris, coloms, ghgh = img.shape\n",
    "\n",
    "ttkAsal = np.float32([[172,109], [282,65], [272,316]])\n",
    "ttkTujuan = np.float32([[53,128], [471,46], [275, 385]])\n",
    "\n",
    "MAffine = cv2.getAffineTransform(ttkAsal, ttkTujuan)\n",
    "\n",
    "print(MAffine)\n",
    "\n",
    "dstAffine = cv2.warpAffine(img, MAffine, (coloms, baris))\n",
    "\n",
    "cv2.imshow('title',dstAffine)\n",
    "\n",
    "cv2.waitKey(0)\n",
    "cv2.destroyAllWindows()"
   ]
  }
 ],
 "metadata": {
  "kernelspec": {
   "display_name": "base",
   "language": "python",
   "name": "python3"
  },
  "language_info": {
   "codemirror_mode": {
    "name": "ipython",
    "version": 3
   },
   "file_extension": ".py",
   "mimetype": "text/x-python",
   "name": "python",
   "nbconvert_exporter": "python",
   "pygments_lexer": "ipython3",
   "version": "3.12.4"
  }
 },
 "nbformat": 4,
 "nbformat_minor": 2
}
